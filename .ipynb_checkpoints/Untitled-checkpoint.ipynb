{
 "cells": [
  {
   "cell_type": "markdown",
   "metadata": {},
   "source": [
    "# Task 4: Twitter Bot Detection"
   ]
  },
  {
   "cell_type": "markdown",
   "metadata": {},
   "source": [
    "## Preparation:\n",
    "Things we need for this post:"
   ]
  },
  {
   "cell_type": "code",
   "execution_count": 57,
   "metadata": {},
   "outputs": [],
   "source": [
    "import numpy as np\n",
    "import pandas as pd\n",
    "import matplotlib.pyplot as plt\n",
    "import seaborn as sns\n",
    "import json\n",
    "import warnings\n",
    "warnings.filterwarnings(\"ignore\")\n",
    "%matplotlib inline\n",
    "\n",
    "from sklearn.tree import DecisionTreeClassifier\n",
    "from sklearn.metrics import accuracy_score, roc_curve, auc\n",
    "from sklearn.model_selection import train_test_split\n",
    "from sklearn.linear_model import LogisticRegression\n",
    "from sklearn.ensemble import RandomForestClassifier\n",
    "\n"
   ]
  },
  {
   "cell_type": "markdown",
   "metadata": {},
   "source": [
    "## Analysing and visualizing data"
   ]
  },
  {
   "cell_type": "code",
   "execution_count": 2,
   "metadata": {},
   "outputs": [],
   "source": [
    "data = pd.read_csv('training_data.csv')\n",
    "bots = data[data.bot==1]\n",
    "nonbots = data[data.bot==0]"
   ]
  },
  {
   "cell_type": "code",
   "execution_count": 3,
   "metadata": {},
   "outputs": [
    {
     "data": {
      "text/html": [
       "<div>\n",
       "<style scoped>\n",
       "    .dataframe tbody tr th:only-of-type {\n",
       "        vertical-align: middle;\n",
       "    }\n",
       "\n",
       "    .dataframe tbody tr th {\n",
       "        vertical-align: top;\n",
       "    }\n",
       "\n",
       "    .dataframe thead th {\n",
       "        text-align: right;\n",
       "    }\n",
       "</style>\n",
       "<table border=\"1\" class=\"dataframe\">\n",
       "  <thead>\n",
       "    <tr style=\"text-align: right;\">\n",
       "      <th></th>\n",
       "      <th>id</th>\n",
       "      <th>id_str</th>\n",
       "      <th>screen_name</th>\n",
       "      <th>location</th>\n",
       "      <th>description</th>\n",
       "      <th>url</th>\n",
       "      <th>followers_count</th>\n",
       "      <th>friends_count</th>\n",
       "      <th>listedcount</th>\n",
       "      <th>created_at</th>\n",
       "      <th>favourites_count</th>\n",
       "      <th>verified</th>\n",
       "      <th>statuses_count</th>\n",
       "      <th>lang</th>\n",
       "      <th>status</th>\n",
       "      <th>default_profile</th>\n",
       "      <th>default_profile_image</th>\n",
       "      <th>has_extended_profile</th>\n",
       "      <th>name</th>\n",
       "      <th>bot</th>\n",
       "    </tr>\n",
       "  </thead>\n",
       "  <tbody>\n",
       "    <tr>\n",
       "      <th>0</th>\n",
       "      <td>8.160000e+17</td>\n",
       "      <td>\"815745789754417152\"</td>\n",
       "      <td>\"HoustonPokeMap\"</td>\n",
       "      <td>\"Houston, TX\"</td>\n",
       "      <td>\"Rare and strong PokŽmon in Houston, TX. See m...</td>\n",
       "      <td>\"https://t.co/dnWuDbFRkt\"</td>\n",
       "      <td>1291</td>\n",
       "      <td>0</td>\n",
       "      <td>10</td>\n",
       "      <td>\"Mon Jan 02 02:25:26 +0000 2017\"</td>\n",
       "      <td>0</td>\n",
       "      <td>False</td>\n",
       "      <td>78554</td>\n",
       "      <td>\"en\"</td>\n",
       "      <td>{\\r      \"created_at\": \"Sun Mar 12 15:44:04 +0...</td>\n",
       "      <td>True</td>\n",
       "      <td>False</td>\n",
       "      <td>False</td>\n",
       "      <td>\"Houston PokŽ Alert\"</td>\n",
       "      <td>1</td>\n",
       "    </tr>\n",
       "    <tr>\n",
       "      <th>1</th>\n",
       "      <td>4.843621e+09</td>\n",
       "      <td>4843621225</td>\n",
       "      <td>kernyeahx</td>\n",
       "      <td>Templeville town, MD, USA</td>\n",
       "      <td>From late 2014 Socium Marketplace will make sh...</td>\n",
       "      <td>NaN</td>\n",
       "      <td>1</td>\n",
       "      <td>349</td>\n",
       "      <td>0</td>\n",
       "      <td>2/1/2016 7:37</td>\n",
       "      <td>38</td>\n",
       "      <td>False</td>\n",
       "      <td>31</td>\n",
       "      <td>en</td>\n",
       "      <td>NaN</td>\n",
       "      <td>True</td>\n",
       "      <td>False</td>\n",
       "      <td>False</td>\n",
       "      <td>Keri Nelson</td>\n",
       "      <td>1</td>\n",
       "    </tr>\n",
       "    <tr>\n",
       "      <th>2</th>\n",
       "      <td>4.303727e+09</td>\n",
       "      <td>4303727112</td>\n",
       "      <td>mattlieberisbot</td>\n",
       "      <td>NaN</td>\n",
       "      <td>Inspired by the smart, funny folks at @replyal...</td>\n",
       "      <td>https://t.co/P1e1o0m4KC</td>\n",
       "      <td>1086</td>\n",
       "      <td>0</td>\n",
       "      <td>14</td>\n",
       "      <td>Fri Nov 20 18:53:22 +0000 2015</td>\n",
       "      <td>0</td>\n",
       "      <td>False</td>\n",
       "      <td>713</td>\n",
       "      <td>en</td>\n",
       "      <td>{'retweeted': False, 'is_quote_status': False,...</td>\n",
       "      <td>True</td>\n",
       "      <td>False</td>\n",
       "      <td>False</td>\n",
       "      <td>Matt Lieber Is Bot</td>\n",
       "      <td>1</td>\n",
       "    </tr>\n",
       "    <tr>\n",
       "      <th>3</th>\n",
       "      <td>3.063139e+09</td>\n",
       "      <td>3063139353</td>\n",
       "      <td>sc_papers</td>\n",
       "      <td>NaN</td>\n",
       "      <td>NaN</td>\n",
       "      <td>NaN</td>\n",
       "      <td>33</td>\n",
       "      <td>0</td>\n",
       "      <td>8</td>\n",
       "      <td>2/25/2015 20:11</td>\n",
       "      <td>0</td>\n",
       "      <td>False</td>\n",
       "      <td>676</td>\n",
       "      <td>en</td>\n",
       "      <td>Construction of human anti-tetanus single-chai...</td>\n",
       "      <td>True</td>\n",
       "      <td>True</td>\n",
       "      <td>False</td>\n",
       "      <td>single cell papers</td>\n",
       "      <td>1</td>\n",
       "    </tr>\n",
       "    <tr>\n",
       "      <th>4</th>\n",
       "      <td>2.955142e+09</td>\n",
       "      <td>2955142070</td>\n",
       "      <td>lucarivera16</td>\n",
       "      <td>Dublin, United States</td>\n",
       "      <td>Inspiring cooks everywhere since 1956.</td>\n",
       "      <td>NaN</td>\n",
       "      <td>11</td>\n",
       "      <td>745</td>\n",
       "      <td>0</td>\n",
       "      <td>1/1/2015 17:44</td>\n",
       "      <td>146</td>\n",
       "      <td>False</td>\n",
       "      <td>185</td>\n",
       "      <td>en</td>\n",
       "      <td>NaN</td>\n",
       "      <td>False</td>\n",
       "      <td>False</td>\n",
       "      <td>False</td>\n",
       "      <td>lucarivera16</td>\n",
       "      <td>1</td>\n",
       "    </tr>\n",
       "  </tbody>\n",
       "</table>\n",
       "</div>"
      ],
      "text/plain": [
       "             id                id_str       screen_name  \\\n",
       "0  8.160000e+17  \"815745789754417152\"  \"HoustonPokeMap\"   \n",
       "1  4.843621e+09            4843621225         kernyeahx   \n",
       "2  4.303727e+09            4303727112   mattlieberisbot   \n",
       "3  3.063139e+09            3063139353         sc_papers   \n",
       "4  2.955142e+09            2955142070      lucarivera16   \n",
       "\n",
       "                    location  \\\n",
       "0              \"Houston, TX\"   \n",
       "1  Templeville town, MD, USA   \n",
       "2                        NaN   \n",
       "3                        NaN   \n",
       "4      Dublin, United States   \n",
       "\n",
       "                                         description  \\\n",
       "0  \"Rare and strong PokŽmon in Houston, TX. See m...   \n",
       "1  From late 2014 Socium Marketplace will make sh...   \n",
       "2  Inspired by the smart, funny folks at @replyal...   \n",
       "3                                                NaN   \n",
       "4             Inspiring cooks everywhere since 1956.   \n",
       "\n",
       "                         url  followers_count  friends_count  listedcount  \\\n",
       "0  \"https://t.co/dnWuDbFRkt\"             1291              0           10   \n",
       "1                        NaN                1            349            0   \n",
       "2    https://t.co/P1e1o0m4KC             1086              0           14   \n",
       "3                        NaN               33              0            8   \n",
       "4                        NaN               11            745            0   \n",
       "\n",
       "                         created_at  favourites_count  verified  \\\n",
       "0  \"Mon Jan 02 02:25:26 +0000 2017\"                 0     False   \n",
       "1                     2/1/2016 7:37                38     False   \n",
       "2    Fri Nov 20 18:53:22 +0000 2015                 0     False   \n",
       "3                   2/25/2015 20:11                 0     False   \n",
       "4                    1/1/2015 17:44               146     False   \n",
       "\n",
       "   statuses_count  lang                                             status  \\\n",
       "0           78554  \"en\"  {\\r      \"created_at\": \"Sun Mar 12 15:44:04 +0...   \n",
       "1              31    en                                                NaN   \n",
       "2             713    en  {'retweeted': False, 'is_quote_status': False,...   \n",
       "3             676    en  Construction of human anti-tetanus single-chai...   \n",
       "4             185    en                                                NaN   \n",
       "\n",
       "   default_profile  default_profile_image has_extended_profile  \\\n",
       "0             True                  False                False   \n",
       "1             True                  False                False   \n",
       "2             True                  False                False   \n",
       "3             True                   True                False   \n",
       "4            False                  False                False   \n",
       "\n",
       "                   name  bot  \n",
       "0  \"Houston PokŽ Alert\"    1  \n",
       "1           Keri Nelson    1  \n",
       "2    Matt Lieber Is Bot    1  \n",
       "3    single cell papers    1  \n",
       "4          lucarivera16    1  "
      ]
     },
     "execution_count": 3,
     "metadata": {},
     "output_type": "execute_result"
    }
   ],
   "source": [
    "bots.head()"
   ]
  },
  {
   "cell_type": "code",
   "execution_count": 5,
   "metadata": {},
   "outputs": [
    {
     "data": {
      "text/html": [
       "<div>\n",
       "<style scoped>\n",
       "    .dataframe tbody tr th:only-of-type {\n",
       "        vertical-align: middle;\n",
       "    }\n",
       "\n",
       "    .dataframe tbody tr th {\n",
       "        vertical-align: top;\n",
       "    }\n",
       "\n",
       "    .dataframe thead th {\n",
       "        text-align: right;\n",
       "    }\n",
       "</style>\n",
       "<table border=\"1\" class=\"dataframe\">\n",
       "  <thead>\n",
       "    <tr style=\"text-align: right;\">\n",
       "      <th></th>\n",
       "      <th>id</th>\n",
       "      <th>id_str</th>\n",
       "      <th>screen_name</th>\n",
       "      <th>location</th>\n",
       "      <th>description</th>\n",
       "      <th>url</th>\n",
       "      <th>followers_count</th>\n",
       "      <th>friends_count</th>\n",
       "      <th>listedcount</th>\n",
       "      <th>created_at</th>\n",
       "      <th>favourites_count</th>\n",
       "      <th>verified</th>\n",
       "      <th>statuses_count</th>\n",
       "      <th>lang</th>\n",
       "      <th>status</th>\n",
       "      <th>default_profile</th>\n",
       "      <th>default_profile_image</th>\n",
       "      <th>has_extended_profile</th>\n",
       "      <th>name</th>\n",
       "      <th>bot</th>\n",
       "    </tr>\n",
       "  </thead>\n",
       "  <tbody>\n",
       "    <tr>\n",
       "      <th>1321</th>\n",
       "      <td>34716038.0</td>\n",
       "      <td>34716038</td>\n",
       "      <td>aaroncarter</td>\n",
       "      <td>Sony Recording Artist</td>\n",
       "      <td>NEW AARON CARTER MUSIC DOWNLOAD LINK LÌüVÌÇ EP...</td>\n",
       "      <td>NaN</td>\n",
       "      <td>571310</td>\n",
       "      <td>76070</td>\n",
       "      <td>4909</td>\n",
       "      <td>Thu Apr 23 20:15:49 +0000 2009</td>\n",
       "      <td>37437</td>\n",
       "      <td>True</td>\n",
       "      <td>56077</td>\n",
       "      <td>en</td>\n",
       "      <td>{u'contributors': None, u'truncated': False, u...</td>\n",
       "      <td>False</td>\n",
       "      <td>False</td>\n",
       "      <td>True</td>\n",
       "      <td>Aaron Carter</td>\n",
       "      <td>0</td>\n",
       "    </tr>\n",
       "    <tr>\n",
       "      <th>1322</th>\n",
       "      <td>3013511.0</td>\n",
       "      <td>3013511</td>\n",
       "      <td>michellebranch</td>\n",
       "      <td>NaN</td>\n",
       "      <td>singer/songwriter, hopeless romantic, drinker ...</td>\n",
       "      <td>https://t.co/2vSKw7cmzC</td>\n",
       "      <td>292385</td>\n",
       "      <td>963</td>\n",
       "      <td>6076</td>\n",
       "      <td>Fri Mar 30 20:58:59 +0000 2007</td>\n",
       "      <td>1248</td>\n",
       "      <td>True</td>\n",
       "      <td>16688</td>\n",
       "      <td>en</td>\n",
       "      <td>{u'contributors': None, u'truncated': False, u...</td>\n",
       "      <td>False</td>\n",
       "      <td>False</td>\n",
       "      <td>False</td>\n",
       "      <td>Michelle Branch</td>\n",
       "      <td>0</td>\n",
       "    </tr>\n",
       "    <tr>\n",
       "      <th>1323</th>\n",
       "      <td>56237623.0</td>\n",
       "      <td>56237623</td>\n",
       "      <td>stronginmyfaith</td>\n",
       "      <td>NaN</td>\n",
       "      <td>NaN</td>\n",
       "      <td>NaN</td>\n",
       "      <td>1</td>\n",
       "      <td>7</td>\n",
       "      <td>0</td>\n",
       "      <td>7/13/2009 0:38</td>\n",
       "      <td>0</td>\n",
       "      <td>False</td>\n",
       "      <td>3</td>\n",
       "      <td>en</td>\n",
       "      <td>Status(contributors=None, truncated=False, tex...</td>\n",
       "      <td>True</td>\n",
       "      <td>True</td>\n",
       "      <td>False</td>\n",
       "      <td>laurie lindeman</td>\n",
       "      <td>0</td>\n",
       "    </tr>\n",
       "    <tr>\n",
       "      <th>1324</th>\n",
       "      <td>27964284.0</td>\n",
       "      <td>27964284</td>\n",
       "      <td>Jessicaveronica</td>\n",
       "      <td>5th Dimension</td>\n",
       "      <td>@TheVeronicas ‰Ü  Wanderer, worshiper, if you ...</td>\n",
       "      <td>https://t.co/U6yNZoDZfu</td>\n",
       "      <td>222659</td>\n",
       "      <td>352</td>\n",
       "      <td>3261</td>\n",
       "      <td>Tue Mar 31 21:12:33 +0000 2009</td>\n",
       "      <td>143</td>\n",
       "      <td>True</td>\n",
       "      <td>10999</td>\n",
       "      <td>en</td>\n",
       "      <td>{u'contributors': None, u'truncated': False, u...</td>\n",
       "      <td>False</td>\n",
       "      <td>False</td>\n",
       "      <td>False</td>\n",
       "      <td>Jessica Veronica</td>\n",
       "      <td>0</td>\n",
       "    </tr>\n",
       "    <tr>\n",
       "      <th>1325</th>\n",
       "      <td>552876065.0</td>\n",
       "      <td>552876065</td>\n",
       "      <td>resargento</td>\n",
       "      <td>brasil</td>\n",
       "      <td>meio ogra mas o coraí_í£o í© de mocinha</td>\n",
       "      <td>NaN</td>\n",
       "      <td>646</td>\n",
       "      <td>446</td>\n",
       "      <td>2</td>\n",
       "      <td>4/13/2012 17:37</td>\n",
       "      <td>13440</td>\n",
       "      <td>False</td>\n",
       "      <td>25292</td>\n",
       "      <td>pt</td>\n",
       "      <td>NaN</td>\n",
       "      <td>False</td>\n",
       "      <td>False</td>\n",
       "      <td>False</td>\n",
       "      <td>rebosta</td>\n",
       "      <td>0</td>\n",
       "    </tr>\n",
       "  </tbody>\n",
       "</table>\n",
       "</div>"
      ],
      "text/plain": [
       "               id     id_str      screen_name                location  \\\n",
       "1321   34716038.0   34716038      aaroncarter  Sony Recording Artist    \n",
       "1322    3013511.0    3013511   michellebranch                     NaN   \n",
       "1323   56237623.0   56237623  stronginmyfaith                     NaN   \n",
       "1324   27964284.0   27964284  Jessicaveronica          5th Dimension    \n",
       "1325  552876065.0  552876065       resargento                  brasil   \n",
       "\n",
       "                                            description  \\\n",
       "1321  NEW AARON CARTER MUSIC DOWNLOAD LINK LÌüVÌÇ EP...   \n",
       "1322  singer/songwriter, hopeless romantic, drinker ...   \n",
       "1323                                                NaN   \n",
       "1324  @TheVeronicas ‰Ü  Wanderer, worshiper, if you ...   \n",
       "1325            meio ogra mas o coraí_í£o í© de mocinha   \n",
       "\n",
       "                          url  followers_count  friends_count  listedcount  \\\n",
       "1321                      NaN           571310          76070         4909   \n",
       "1322  https://t.co/2vSKw7cmzC           292385            963         6076   \n",
       "1323                      NaN                1              7            0   \n",
       "1324  https://t.co/U6yNZoDZfu           222659            352         3261   \n",
       "1325                      NaN              646            446            2   \n",
       "\n",
       "                          created_at  favourites_count  verified  \\\n",
       "1321  Thu Apr 23 20:15:49 +0000 2009             37437      True   \n",
       "1322  Fri Mar 30 20:58:59 +0000 2007              1248      True   \n",
       "1323                  7/13/2009 0:38                 0     False   \n",
       "1324  Tue Mar 31 21:12:33 +0000 2009               143      True   \n",
       "1325                 4/13/2012 17:37             13440     False   \n",
       "\n",
       "      statuses_count lang                                             status  \\\n",
       "1321           56077   en  {u'contributors': None, u'truncated': False, u...   \n",
       "1322           16688   en  {u'contributors': None, u'truncated': False, u...   \n",
       "1323               3   en  Status(contributors=None, truncated=False, tex...   \n",
       "1324           10999   en  {u'contributors': None, u'truncated': False, u...   \n",
       "1325           25292   pt                                                NaN   \n",
       "\n",
       "      default_profile  default_profile_image has_extended_profile  \\\n",
       "1321            False                  False                 True   \n",
       "1322            False                  False                False   \n",
       "1323             True                   True                False   \n",
       "1324            False                  False                False   \n",
       "1325            False                  False                False   \n",
       "\n",
       "                  name  bot  \n",
       "1321      Aaron Carter    0  \n",
       "1322   Michelle Branch    0  \n",
       "1323   laurie lindeman    0  \n",
       "1324  Jessica Veronica    0  \n",
       "1325           rebosta    0  "
      ]
     },
     "execution_count": 5,
     "metadata": {},
     "output_type": "execute_result"
    }
   ],
   "source": [
    "nonbots.head()"
   ]
  },
  {
   "cell_type": "code",
   "execution_count": 59,
   "metadata": {},
   "outputs": [
    {
     "data": {
      "text/plain": [
       "741849"
      ]
     },
     "execution_count": 59,
     "metadata": {},
     "output_type": "execute_result"
    }
   ],
   "source": [
    "nonbots['statuses_count'].max()"
   ]
  },
  {
   "cell_type": "code",
   "execution_count": 58,
   "metadata": {},
   "outputs": [
    {
     "data": {
      "text/plain": [
       "6863363"
      ]
     },
     "execution_count": 58,
     "metadata": {},
     "output_type": "execute_result"
    }
   ],
   "source": [
    "bots['statuses_count'].max()"
   ]
  },
  {
   "cell_type": "markdown",
   "metadata": {},
   "source": [
    "## Missing data analysis (bots vs nonbots)"
   ]
  },
  {
   "cell_type": "code",
   "execution_count": 6,
   "metadata": {},
   "outputs": [],
   "source": [
    "def missing_values_visualization(df):\n",
    "    plt.figure(figsize=(10,6))\n",
    "    sns.heatmap(df.isnull(), yticklabels=False, cbar=False, cmap='Blues')\n",
    "    plt.tight_layout()\n",
    "    return plt.show()"
   ]
  },
  {
   "cell_type": "code",
   "execution_count": 7,
   "metadata": {},
   "outputs": [
    {
     "data": {
      "image/png": "[encoded data removed]",
      "text/plain": [
       "<matplotlib.figure.Figure at 0x1d5ab6b7208>"
      ]
     },
     "metadata": {},
     "output_type": "display_data"
    }
   ],
   "source": [
    "missing_values_visualization(bots)"
   ]
  },
  {
   "cell_type": "code",
   "execution_count": 8,
   "metadata": {},
   "outputs": [
    {
     "data": {
      "image/png": "[encoded data removed]",
      "text/plain": [
       "<matplotlib.figure.Figure at 0x1d5af07a160>"
      ]
     },
     "metadata": {},
     "output_type": "display_data"
    }
   ],
   "source": [
    "missing_values_visualization(nonbots)"
   ]
  },
  {
   "cell_type": "code",
   "execution_count": 9,
   "metadata": {},
   "outputs": [],
   "source": [
    "def bool_infomation_visualization(df, title):\n",
    "    temp = df[['verified', 'default_profile', 'default_profile_image', 'has_extended_profile']]\n",
    "    plt.figure(figsize=(10,6))\n",
    "    plt.title = title\n",
    "    sns.heatmap(temp==True , yticklabels=False, cbar=False, cmap='Greens')\n",
    "    plt.tight_layout()\n",
    "    return plt.show()"
   ]
  },
  {
   "cell_type": "markdown",
   "metadata": {},
   "source": [
    "* We can see that almost bots account are not verified and use default profile"
   ]
  },
  {
   "cell_type": "code",
   "execution_count": 10,
   "metadata": {},
   "outputs": [
    {
     "data": {
      "image/png": "[encoded data removed]",
      "text/plain": [
       "<matplotlib.figure.Figure at 0x1d5af220eb8>"
      ]
     },
     "metadata": {},
     "output_type": "display_data"
    }
   ],
   "source": [
    "bool_infomation_visualization(bots, 'Boolean information visualization of Bots')"
   ]
  },
  {
   "cell_type": "code",
   "execution_count": 11,
   "metadata": {},
   "outputs": [
    {
     "data": {
      "image/png": "[encoded data removed]",
      "text/plain": [
       "<matplotlib.figure.Figure at 0x1d5af163748>"
      ]
     },
     "metadata": {},
     "output_type": "display_data"
    }
   ],
   "source": [
    "bool_infomation_visualization(nonbots, 'Boolean information visualization of Non-Bots')"
   ]
  },
  {
   "cell_type": "markdown",
   "metadata": {},
   "source": [
    "### Number of friends and followers"
   ]
  },
  {
   "cell_type": "code",
   "execution_count": 12,
   "metadata": {},
   "outputs": [],
   "source": [
    "def friends_followers_visualization(data, title, color, label):\n",
    "    plt.figure(figsize=(10,5))\n",
    "    plt.subplot(2,1,1)\n",
    "    plt.suptitle(title, x=0.5, y = 1.05)\n",
    "    sns.regplot(data.friends_count, data.followers_count, color=color, label=label)\n",
    "    plt.xlim(0, 100)\n",
    "    plt.ylim(0, 100)\n",
    "    plt.tight_layout()\n",
    "    plt.show()\n",
    "    print('Max friends: ', data.friends_count.max())\n",
    "    print('Min friends: ', data.friends_count.min())\n",
    "    print('Average friends: ', round(data.friends_count.mean()))\n",
    "    print('--------------------------------------------')\n",
    "    print('Max followers: ', data.followers_count.max())\n",
    "    print('Min followers: ', data.followers_count.min())\n",
    "    print('Average followers: ', round(data.followers_count.mean()))"
   ]
  },
  {
   "cell_type": "code",
   "execution_count": 13,
   "metadata": {},
   "outputs": [
    {
     "data": {
      "image/png": "[encoded data removed]",
      "text/plain": [
       "<matplotlib.figure.Figure at 0x1d5af0e03c8>"
      ]
     },
     "metadata": {},
     "output_type": "display_data"
    },
    {
     "name": "stdout",
     "output_type": "stream",
     "text": [
      "Max friends:  487927\n",
      "Min friends:  0\n",
      "Average friends:  1611\n",
      "--------------------------------------------\n",
      "Max followers:  7154703\n",
      "Min followers:  0\n",
      "Average followers:  13459\n"
     ]
    }
   ],
   "source": [
    "friends_followers_visualization(bots, 'Friends & Followers of Bot', 'red', 'Bots')"
   ]
  },
  {
   "cell_type": "code",
   "execution_count": 14,
   "metadata": {},
   "outputs": [
    {
     "data": {
      "image/png": "[encoded data removed]",
      "text/plain": [
       "<matplotlib.figure.Figure at 0x1d5af1639b0>"
      ]
     },
     "metadata": {},
     "output_type": "display_data"
    },
    {
     "name": "stdout",
     "output_type": "stream",
     "text": [
      "Max friends:  2056668\n",
      "Min friends:  0\n",
      "Average friends:  7647\n",
      "--------------------------------------------\n",
      "Max followers:  96321564\n",
      "Min followers:  0\n",
      "Average followers:  1876165\n"
     ]
    }
   ],
   "source": [
    "friends_followers_visualization(nonbots, 'Friends & Followers of Non-Bot', 'blue', 'Non-Bots')"
   ]
  },
  {
   "cell_type": "markdown",
   "metadata": {},
   "source": [
    "## The imbalance between bots and nonbots account"
   ]
  },
  {
   "cell_type": "code",
   "execution_count": 15,
   "metadata": {},
   "outputs": [],
   "source": [
    "def imbalance_visualization(bot_data, nonbot_data, label_1, label_2, attribute):\n",
    "    plt.figure(figsize=(14,7))\n",
    "    plt.subplot(2,1,1)\n",
    "    plt.plot(bot_data[attribute], color='red', label=label_1)\n",
    "    plt.plot(nonbot_data[attribute], color='blue', label=label_2)\n",
    "    plt.legend(loc='upper left')"
   ]
  },
  {
   "cell_type": "code",
   "execution_count": 16,
   "metadata": {},
   "outputs": [
    {
     "data": {
      "image/png": "[encoded data removed]",
      "text/plain": [
       "<matplotlib.figure.Figure at 0x1d5aeff4278>"
      ]
     },
     "metadata": {},
     "output_type": "display_data"
    }
   ],
   "source": [
    "imbalance_visualization(bots, nonbots, 'Bots Friends', 'Non-Bots Friend', 'friends_count')"
   ]
  },
  {
   "cell_type": "code",
   "execution_count": 17,
   "metadata": {},
   "outputs": [
    {
     "data": {
      "image/png": "[encoded data removed]",
      "text/plain": [
       "<matplotlib.figure.Figure at 0x1d5af083898>"
      ]
     },
     "metadata": {},
     "output_type": "display_data"
    }
   ],
   "source": [
    "impalance_visualization(bots, nonbots, 'Bots Followers', 'Non-Bots Followers', 'followers_count')"
   ]
  },
  {
   "cell_type": "code",
   "execution_count": 18,
   "metadata": {},
   "outputs": [
    {
     "data": {
      "image/png": "[encoded data removed]",
      "text/plain": [
       "<matplotlib.figure.Figure at 0x1d5aeece9e8>"
      ]
     },
     "metadata": {},
     "output_type": "display_data"
    }
   ],
   "source": [
    "impalance_visualization(bots, nonbots, 'Bots Status', 'Non-Bots Status', 'statuses_count')"
   ]
  },
  {
   "cell_type": "code",
   "execution_count": null,
   "metadata": {},
   "outputs": [],
   "source": []
  },
  {
   "cell_type": "code",
   "execution_count": null,
   "metadata": {},
   "outputs": [],
   "source": []
  },
  {
   "cell_type": "code",
   "execution_count": null,
   "metadata": {},
   "outputs": [],
   "source": []
  },
  {
   "cell_type": "markdown",
   "metadata": {},
   "source": [
    "# Feature Engineering"
   ]
  },
  {
   "cell_type": "code",
   "execution_count": 19,
   "metadata": {},
   "outputs": [],
   "source": [
    "bot_bow = r'bot|b0t|cannabis|tweet me|mishear|follow me|updates every|gorilla|yes_ofc|forget' \\\n",
    "                    r'expos|kill|clit|bbb|butt|fuck|XXX|sex|truthe|fake|anony|free|virus|funky|RNA|kuck|jargon' \\\n",
    "                    r'nerd|swag|jack|bang|bonsai|chick|prison|paper|pokem|xx|freak|ffd|dunia|clone|genie|bbb' \\\n",
    "                    r'ffd|onlyman|emoji|joke|troll|droop|free|every|wow|cheese|yeah|bio|magic|wizard|face'"
   ]
  },
  {
   "cell_type": "code",
   "execution_count": 49,
   "metadata": {},
   "outputs": [],
   "source": [
    "training_data = pd.read_csv('training_data.csv')"
   ]
  },
  {
   "cell_type": "code",
   "execution_count": 50,
   "metadata": {},
   "outputs": [],
   "source": [
    "training_data['screen_name_2'] = training_data.screen_name.str.contains(bot_bow, case=False, na=False)\n",
    "training_data['name_2'] = training_data.name.str.contains(bot_bow, case=False, na=False)\n",
    "training_data['description_2'] = training_data.description.str.contains(bot_bow, case=False, na=False)\n",
    "training_data['status_2'] = training_data.status.str.contains(bot_bow, case=False, na=False)\n",
    "training_data['listed_count_2'] = (training_data.listedcount>20000)==False\n",
    "training_data['statuses_count_2'] = (training_data.statuses_count>750000)==True"
   ]
  },
  {
   "cell_type": "code",
   "execution_count": null,
   "metadata": {},
   "outputs": [],
   "source": []
  },
  {
   "cell_type": "code",
   "execution_count": 51,
   "metadata": {},
   "outputs": [],
   "source": [
    "\n",
    "features = ['screen_name_2', 'name_2', 'description_2', 'status_2', 'verified', 'followers_count', 'friends_count', 'statuses_count_2', 'listed_count_2', 'default_profile', 'default_profile_image', 'bot']"
   ]
  },
  {
   "cell_type": "code",
   "execution_count": 52,
   "metadata": {},
   "outputs": [
    {
     "name": "stdout",
     "output_type": "stream",
     "text": [
      "Trainig Accuracy: 0.88350\n",
      "Test Accuracy: 0.86310\n"
     ]
    }
   ],
   "source": [
    "X = training_data[features].iloc[:,:-1]\n",
    "y = training_data[features].iloc[:,-1]\n",
    "\n",
    "decision_tree = DecisionTreeClassifier(criterion='entropy', min_samples_leaf=38, min_samples_split=10)\n",
    "\n",
    "X_train, X_test, y_train, y_test = train_test_split(X, y, test_size=0.3, random_state=0)\n",
    "\n",
    "decision_tree = decision_tree.fit(X_train, y_train)\n",
    "y_pred_train = decision_tree.predict(X_train)\n",
    "y_pred_test = decision_tree.predict(X_test)\n",
    "\n",
    "print(\"Trainig Accuracy: %.5f\" %accuracy_score(y_train, y_pred_train))\n",
    "print(\"Test Accuracy: %.5f\" %accuracy_score(y_test, y_pred_test))"
   ]
  },
  {
   "cell_type": "code",
   "execution_count": 54,
   "metadata": {},
   "outputs": [
    {
     "name": "stdout",
     "output_type": "stream",
     "text": [
      "Trainig Accuracy: 0.86612\n",
      "Test Accuracy: 0.84643\n"
     ]
    }
   ],
   "source": [
    "X = training_data[features].iloc[:,:-1]\n",
    "y = training_data[features].iloc[:,-1]\n",
    "\n",
    "random_forest = RandomForestClassifier(criterion='entropy', min_samples_leaf=100, min_samples_split=20)\n",
    "\n",
    "X_train, X_test, y_train, y_test = train_test_split(X, y, test_size=0.3, random_state=0)\n",
    "\n",
    "random_forest = random_forest.fit(X_train, y_train)\n",
    "y_pred_train = random_forest.predict(X_train)\n",
    "y_pred_test = random_forest.predict(X_test)\n",
    "\n",
    "print(\"Trainig Accuracy: %.5f\" %accuracy_score(y_train, y_pred_train))\n",
    "print(\"Test Accuracy: %.5f\" %accuracy_score(y_test, y_pred_test))"
   ]
  },
  {
   "cell_type": "code",
   "execution_count": 56,
   "metadata": {},
   "outputs": [
    {
     "name": "stdout",
     "output_type": "stream",
     "text": [
      "Trainig Accuracy: 0.58917\n",
      "Test Accuracy: 0.57738\n"
     ]
    }
   ],
   "source": [
    "X = training_data[features].iloc[:,:-1]\n",
    "y = training_data[features].iloc[:,-1]\n",
    "\n",
    "logistic_reg = LogisticRegression(random_state=0)\n",
    "\n",
    "X_train, X_test, y_train, y_test = train_test_split(X, y, test_size=0.3, random_state=0)\n",
    "\n",
    "logistic_reg = logistic_reg.fit(X_train, y_train)\n",
    "y_pred_train = logistic_reg.predict(X_train)\n",
    "y_pred_test = logistic_reg.predict(X_test)\n",
    "\n",
    "print(\"Trainig Accuracy: %.5f\" %accuracy_score(y_train, y_pred_train))\n",
    "print(\"Test Accuracy: %.5f\" %accuracy_score(y_test, y_pred_test))"
   ]
  }
 ],
 "metadata": {
  "kernelspec": {
   "display_name": "Python 3",
   "language": "python",
   "name": "python3"
  },
  "language_info": {
   "codemirror_mode": {
    "name": "ipython",
    "version": 3
   },
   "file_extension": ".py",
   "mimetype": "text/x-python",
   "name": "python",
   "nbconvert_exporter": "python",
   "pygments_lexer": "ipython3",
   "version": "3.6.4"
  }
 },
 "nbformat": 4,
 "nbformat_minor": 2
}
